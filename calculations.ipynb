{
 "cells": [
  {
   "cell_type": "markdown",
   "metadata": {},
   "source": [
    "# Cálculo global do trocador de calor \n",
    "\n"
   ]
  },
  {
   "cell_type": "markdown",
   "metadata": {},
   "source": [
    "Hipótese 1: Tocador concêntrico com escoamento contracorrente"
   ]
  },
  {
   "cell_type": "markdown",
   "metadata": {},
   "source": [
    "# Propriedades dos fluidos:\n",
    "    "
   ]
  },
  {
   "cell_type": "code",
   "execution_count": 149,
   "metadata": {},
   "outputs": [
    {
     "name": "stdout",
     "output_type": "stream",
     "text": [
      "4.84648\n"
     ]
    }
   ],
   "source": [
    "water_reference_temperature = 35 #temperatura de referência da água\n",
    "c_p_water = 4178 #J/kg.K capacidade calorífica da água\n",
    "mu_water = 725*(0.000001) #N.s/m2 Viscosidade da água\n",
    "conduct_water = 0.625 #W/m.K condutividade da água\n",
    "water_density = 1000 #kg/m3\n",
    "Pr_water = c_p_water*mu_water/conduct_water # Prandtl da água\n",
    "print(Pr_water)"
   ]
  },
  {
   "cell_type": "code",
   "execution_count": 150,
   "metadata": {
    "collapsed": true
   },
   "outputs": [],
   "source": [
    "\n",
    "# Condições operacionais"
   ]
  },
  {
   "cell_type": "markdown",
   "metadata": {},
   "source": [
    "A transferência de calor necessária é obtida de \n",
    "\n",
    "$$ q = m^{.}_f c_{p,f} (T_{f,exit} - T_{f, inlet})$$\n",
    "\n",
    "A área requerida é obtida de \n",
    "\n",
    "$$ q = U A F \\Delta T_{(lm,CC)} $$\n",
    "\n",
    "Para escoamento em contra corrente\n",
    "\n",
    "$$\\Delta T_1 = T_{h,inlet} - T_{c,exit } $$\n",
    "$$\\Delta T_2 = T_{h,exit} - T_{c,inlet } $$\n",
    "\n",
    "$$\\Delta T_{(lm,CC)} = \\frac{\\Delta T_2-\\Delta T_1}{ln(\\Delta T_2/\\Delta T_1)} $$ \n",
    "\n",
    "Assim, \n",
    "\n",
    "$$ A = \\frac{q}{U F \\Delta T_{(lm,CC)}} $$ \n",
    "\n",
    "$$ L = \\frac{A}{\\pi D} $$\n",
    "\n",
    "O Reynolds interno no tubo é\n",
    "\n",
    "$$ Re_i = \\frac{ 4 m^{.}_f}{\\pi D \\mu}$$\n",
    "\n",
    "Para escoamento turbulento\n",
    "\n",
    "$$ Nu_i  = 0.023 Re_i^{4/5}Pr^{0.4} $$\n",
    "\n",
    "O coeficiente de transferência de calor interno então é:\n",
    "\n",
    "$$ h_i = \\frac{k}{D} Nu_i $$\n",
    "\n",
    "Para o lado externo:\n",
    "\n",
    "$$ D_{eo} = \\frac{4 A_{flow}}{P_{wetted}} $$\n",
    "\n",
    "$$ Re_e = \\frac{ 4 m^{.}_{hot}}{\\pi D_{eo} \\mu}$$\n",
    "\n",
    "Para escoamento turbulento\n",
    "\n",
    "$$ Nu_e  = 0.023 Re_e^{4/5}Pr^{0.4} $$\n",
    "\n",
    "Para escoamento laminar, coeficiente é dado pela tabela 8.2 do Incropera:\n",
    "\n",
    "Para $\\frac{D_i}{D_e} = 0.25$, $Nu_e = 4.85$\n",
    "\n",
    "O coeficiente de transferência de calor interno então é:\n",
    "\n",
    "$$ h_e = \\frac{k}{D_{eo}} Nu_e $$\n",
    "\n",
    "O coeficiente global de transferência de calor é dado por:\n",
    "\n",
    "$$ U = \\frac{1}{(1/h_i) + (1/h_e)}$$"
   ]
  },
  {
   "cell_type": "code",
   "execution_count": 159,
   "metadata": {},
   "outputs": [
    {
     "name": "stdout",
     "output_type": "stream",
     "text": [
      "3.141592653589793\n"
     ]
    }
   ],
   "source": [
    "import numpy as np\n",
    "T_cold_exit = 20 #C temperatura desejada na saída\n",
    "T_cold_inlet = 15 #C temperatura de entrada da água\n",
    "cold_water_vol_flow_rate = 8.0 #L/min\n",
    "cold_water_vol_rate = (cold_water_vol_flow_rate/60.0)*0.001 #m3/s\n",
    "cold_water_flow_rate = cold_water_vol_rate * water_density\n",
    "\n",
    "T_hot_water_inlet = 30 #C temperatura de entrada da água quente\n",
    "T_hot_water_exit = 19 #C temperatura de saída da água quente\n",
    "hot_water_vol_flow_rate = 8.0 #L/min\n",
    "hot_water_vol_rate = (hot_water_vol_flow_rate/60.0)*0.001 #m3/s\n",
    "hot_water_flow_rate = hot_water_vol_rate * water_density\n",
    "\n",
    "internal_diameter = 0.0254/2.0 #\n",
    "external_diameter = 0.0254\n",
    "correction_factor = 1.0 \n",
    "\n",
    "print(np.pi)"
   ]
  },
  {
   "cell_type": "code",
   "execution_count": 160,
   "metadata": {},
   "outputs": [
    {
     "name": "stdout",
     "output_type": "stream",
     "text": [
      "Re_int =  18437.71627818138\n",
      "Nu_int =  111.805741995\n",
      "h_int =  5502.25108245\n",
      "D_oe =  0.012700000000000001\n",
      "Re_ext =  18437.716278181375\n",
      "Nu_ext =  111.805741995\n",
      "h_ext =  5502.25108245\n",
      "U =  2751.12554123\n",
      "heat exchange needed =  2785.333333333333 W\n",
      "comprimento necessário de troca =  3.87520977961 m\n"
     ]
    }
   ],
   "source": [
    "\n",
    "annular_area = (np.pi * (external_diameter*external_diameter) / 4) - (np.pi * (internal_diameter*internal_diameter) / 4)\n",
    "wetted_perimeter = np.pi * (external_diameter+internal_diameter)\n",
    "outer_hidraul_diameter = 4*annular_area/wetted_perimeter\n",
    "\n",
    "\n",
    "Re_i = 4.0 * cold_water_flow_rate / (np.pi * internal_diameter * mu_water )\n",
    "print(\"Re_int = \", Re_i)\n",
    "Nu_i = 0.023 * np.power(Re_i, (4/5.0)) * np.power(Pr_water, (0.4))\n",
    "print(\"Nu_int = \", Nu_i)\n",
    "h_i = conduct_water * Nu_i/internal_diameter\n",
    "print(\"h_int = \", h_i)\n",
    "\n",
    "print(\"D_oe = \", outer_hidraul_diameter)\n",
    "Re_e = 4.0 * hot_water_flow_rate / (np.pi * outer_hidraul_diameter * mu_water )\n",
    "print(\"Re_ext = \", Re_e)\n",
    "Nu_e_turb = 0.023 * np.power(Re_e, (4/5.0)) * np.power(Pr_water, (0.4))\n",
    "\n",
    "ratio_diameter = internal_diameter/external_diameter\n",
    "\n",
    "if(Re_e>3000.0):\n",
    "    Nu_e = Nu_e_turb\n",
    "else:\n",
    "    Nu_e = 4.85\n",
    "\n",
    "print(\"Nu_ext = \", Nu_e)\n",
    "h_e = conduct_water * Nu_e/outer_hidraul_diameter\n",
    "print(\"h_ext = \", h_e)\n",
    "\n",
    "U = 1.0/((1/h_i)+(1/h_e))\n",
    "print(\"U = \", U)\n",
    "\n",
    "# Transferência de calor necessária no trocador é:\n",
    "q_cold_water = cold_water_flow_rate * c_p_water * (T_cold_exit-T_cold_inlet)\n",
    "\n",
    "print(\"heat exchange needed = \", q_cold_water, \"W\")\n",
    "\n",
    "delta_T1 = T_hot_water_inlet-T_cold_exit\n",
    "delta_T2 = T_hot_water_exit - T_cold_inlet\n",
    "\n",
    "delta_T_log = (delta_T2-delta_T1)/(np.log(delta_T2/delta_T1))\n",
    "\n",
    "A = q_cold_water / (U *correction_factor* delta_T_log )\n",
    "\n",
    "length = A / (np.pi * internal_diameter)\n",
    "\n",
    "print(\"comprimento necessário de troca = \", length, \"m\")"
   ]
  },
  {
   "cell_type": "code",
   "execution_count": null,
   "metadata": {
    "collapsed": true
   },
   "outputs": [],
   "source": []
  },
  {
   "cell_type": "code",
   "execution_count": null,
   "metadata": {
    "collapsed": true
   },
   "outputs": [],
   "source": []
  },
  {
   "cell_type": "code",
   "execution_count": null,
   "metadata": {
    "collapsed": true
   },
   "outputs": [],
   "source": []
  }
 ],
 "metadata": {
  "kernelspec": {
   "display_name": "Python 3",
   "language": "python",
   "name": "python3"
  },
  "language_info": {
   "codemirror_mode": {
    "name": "ipython",
    "version": 3
   },
   "file_extension": ".py",
   "mimetype": "text/x-python",
   "name": "python",
   "nbconvert_exporter": "python",
   "pygments_lexer": "ipython3",
   "version": "3.6.1"
  }
 },
 "nbformat": 4,
 "nbformat_minor": 2
}
