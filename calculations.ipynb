{
 "cells": [
  {
   "cell_type": "markdown",
   "metadata": {},
   "source": [
    "# Cálculo global do trocador de calor \n",
    "\n"
   ]
  },
  {
   "cell_type": "markdown",
   "metadata": {},
   "source": [
    "Hipótese 1: Tocador concêntrico com escoamento contracorrente"
   ]
  },
  {
   "cell_type": "markdown",
   "metadata": {},
   "source": [
    "# Propriedades dos fluidos:\n",
    "    "
   ]
  },
  {
   "cell_type": "code",
   "execution_count": 28,
   "metadata": {},
   "outputs": [
    {
     "name": "stdout",
     "output_type": "stream",
     "text": [
      "4.84648\n"
     ]
    }
   ],
   "source": [
    "hot_water_reference_temperature = 35 #temperatura de referência da água\n",
    "hot_c_p_water = 4178 #J/kg.K capacidade calorífica da água\n",
    "hot_mu_water = 759*(0.000001) #N.s/m2 Viscosidade da água\n",
    "hot_conduct_water = 0.621 #W/m.K condutividade da água\n",
    "hot_water_density = 994.8 #kg/m3\n",
    "hot_Pr_water = c_p_water*mu_water/conduct_water # Prandtl da água\n",
    "print(Pr_water)\n",
    "\n",
    "cold_water_reference_temperature = 22 #temperatura de referência da água\n",
    "cold_c_p_water = 4180 #J/kg.K capacidade calorífica da água\n",
    "cold_mu_water = 930*(0.000001) #N.s/m2 Viscosidade da água\n",
    "cold_conduct_water = 0.608 #W/m.K condutividade da água\n",
    "cold_water_density = 997.8 #kg/m3\n",
    "cold_Pr_water = c_p_water*mu_water/conduct_water # Prandtl da água\n",
    "\n"
   ]
  },
  {
   "cell_type": "code",
   "execution_count": 29,
   "metadata": {
    "collapsed": true
   },
   "outputs": [],
   "source": [
    "\n",
    "# Condições operacionais"
   ]
  },
  {
   "cell_type": "markdown",
   "metadata": {},
   "source": [
    "A transferência de calor necessária é obtida de \n",
    "\n",
    "$$ q = m^{.}_f c_{p,f} (T_{f,exit} - T_{f, inlet})$$\n",
    "\n",
    "A área requerida é obtida de \n",
    "\n",
    "$$ q = U A F \\Delta T_{(lm,CC)} $$\n",
    "\n",
    "Para escoamento em contra corrente\n",
    "\n",
    "$$\\Delta T_1 = T_{h,inlet} - T_{c,exit } $$\n",
    "$$\\Delta T_2 = T_{h,exit} - T_{c,inlet } $$\n",
    "\n",
    "$$\\Delta T_{(lm,CC)} = \\frac{\\Delta T_2-\\Delta T_1}{ln(\\Delta T_2/\\Delta T_1)} $$ \n",
    "\n",
    "Assim, \n",
    "\n",
    "$$ A = \\frac{q}{U F \\Delta T_{(lm,CC)}} $$ \n",
    "\n",
    "$$ L = \\frac{A}{\\pi D} $$\n",
    "\n",
    "O Reynolds interno no tubo é\n",
    "\n",
    "$$ Re_i = \\frac{ 4 m^{.}_f}{\\pi D \\mu}$$\n",
    "\n",
    "Para escoamento turbulento interno:\n",
    "\n",
    "$$ Nu_i  = 0.023 Re_i^{4/5}Pr^{0.4} $$\n",
    "\n",
    "Para escoamento interno em uma tubo em espiral:\n",
    "\n",
    "$$ Nu_i  = 0.023 Re_i^{0.85}Pr^{0.4} \\delta^{0.1}$$\n",
    "\n",
    "onde $\\delta$ é a relação de curvatura, razão entre o raio do tubo e o raio de curvatura do tubo\n",
    "\n",
    "$$ \\delta = \\frac{D_i}{2 r_{curv}}$$ \n",
    "\n",
    "\n",
    "O coeficiente de transferência de calor interno então é:\n",
    "\n",
    "$$ h_i = \\frac{k}{D} Nu_i $$\n",
    "\n",
    "\n",
    "Para o lado externo:\n",
    "\n",
    "No caso de tubo concêntrico:\n",
    "\n",
    "$$ D_{eo} = \\frac{4 A_{flow}}{P_{wetted}} $$\n",
    "\n",
    "$$ Re_e = \\frac{ 4 m^{.}_{hot}}{\\pi D_{eo} \\mu}$$\n",
    "\n",
    "Para escoamento turbulento\n",
    "\n",
    "$$ Nu_e  = 0.023 Re_e^{4/5}Pr^{0.4} $$\n",
    "\n",
    "Para escoamento laminar, coeficiente é dado pela tabela 8.2 do Incropera:\n",
    "\n",
    "Para $\\frac{D_i}{D_e} = 0.25$, $Nu_e = 4.85$\n",
    "\n",
    "Escoamento externo em cilindro na direção normal ao eixo circular (Bergman (2014))\n",
    "\n",
    "$$ Nu_e = C * Re_e^m Pr^{1/3} $$\n",
    "\n",
    "Para:\n",
    "$Re_e = 0.4-4$, $C = 0.989$ e $m = 0.33$\n",
    "\n",
    "$Re_e = 4-40$, $C = 0.911$ e $m = 0.385$\n",
    "\n",
    "$Re_e = 40-4000 $, $C = 0.683$ e $m = 0.466$\n",
    "\n",
    "$Re_e = 4000-40000$, $C = 0.193 $ e $m = 0.618$\n",
    "\n",
    "$Re_e = 40000-400000$, $C = 0.027  $ e $m = 0.805$\n",
    "\n",
    "\n",
    "\n",
    "\n",
    "O coeficiente de transferência de calor interno então é:\n",
    "\n",
    "$$ h_e = \\frac{k}{D_{eo}} Nu_e $$\n",
    "\n",
    "O coeficiente global de transferência de calor é dado por:\n",
    "\n",
    "$$ U = \\frac{1}{(1/h_i) + (1/h_e)}$$"
   ]
  },
  {
   "cell_type": "code",
   "execution_count": 30,
   "metadata": {},
   "outputs": [
    {
     "name": "stdout",
     "output_type": "stream",
     "text": [
      "3.141592653589793\n"
     ]
    }
   ],
   "source": [
    "import numpy as np\n",
    "T_cold_exit = 20 #C temperatura desejada na saída\n",
    "T_cold_inlet = 14 #C temperatura de entrada da água\n",
    "cold_water_vol_flow_rate = 8.0 #L/min\n",
    "cold_water_vol_rate = (cold_water_vol_flow_rate/60.0)*0.001 #m3/s\n",
    "cold_water_flow_rate = cold_water_vol_rate * cold_water_density\n",
    "\n",
    "T_hot_water_inlet = 30 #C temperatura de entrada da água quente\n",
    "\n",
    "hot_water_vol_flow_rate = 8.0 #L/min\n",
    "hot_water_vol_rate = (hot_water_vol_flow_rate/60.0)*0.001 #m3/s\n",
    "hot_water_flow_rate = hot_water_vol_rate * hot_water_density\n",
    "\n",
    "internal_diameter = 0.0254/2.0 #\n",
    "external_diameter = 0.0254\n",
    "tank_diameter = 0.15 #m, diâmetro do vaso\n",
    "correction_factor = 1.0 \n",
    "curv_radius = 0.1 #m - raio de curvatura\n",
    "\n",
    "print(np.pi)"
   ]
  },
  {
   "cell_type": "code",
   "execution_count": 39,
   "metadata": {},
   "outputs": [
    {
     "name": "stdout",
     "output_type": "stream",
     "text": [
      "Calor necessário para a troca =  3336.6431999999995 W\n",
      "Temperatura de saída água quente =  23.97902506148295\n",
      "Re_int =  18397.153302369377\n",
      "Nu_int =  138.424770362\n",
      "Re_e =  1483.3771911609308\n",
      "Nu_ext =  34.7295713282\n",
      "h_int =  6812.2426359\n",
      "h_ext =  1709.13244726\n",
      "U =  1366.3317028\n",
      "Delta T_lm =  9.98950886066\n",
      "Comprimento necessário de troca =  6.12711304263 m\n"
     ]
    }
   ],
   "source": [
    "# concêntrica = 1\n",
    "# serpentina = 2\n",
    "type = 2\n",
    "\n",
    "# Transferência de calor necessária no trocador é:\n",
    "q_cold_water = cold_water_flow_rate * cold_c_p_water * (T_cold_exit-T_cold_inlet)\n",
    "\n",
    "print(\"Calor necessário para a troca = \", q_cold_water, \"W\")\n",
    "\n",
    "T_hot_water_exit = T_hot_water_inlet - q_cold_water/(hot_water_flow_rate*hot_c_p_water)\n",
    "print(\"Temperatura de saída água quente = \", T_hot_water_exit)\n",
    "\n",
    "if type==1:\n",
    "    annular_area = (np.pi * (external_diameter*external_diameter) / 4) - (np.pi * (internal_diameter*internal_diameter) / 4)\n",
    "    wetted_perimeter = np.pi * (external_diameter+internal_diameter)\n",
    "    outer_hidraul_diameter = 4*annular_area/wetted_perimeter\n",
    "    print(\"D_oe = \", outer_hidraul_diameter)\n",
    "        \n",
    "    Re_i = 4.0 * cold_water_flow_rate / (np.pi * internal_diameter * mu_water )\n",
    "    print(\"Re_int = \", Re_i)\n",
    "    Nu_i = 0.023 * np.power(Re_i, (4/5.0)) * np.power(Pr_water, (0.4))\n",
    "    print(\"Nu_int = \", Nu_i)\n",
    "    \n",
    "    Re_e = 4.0 * hot_water_flow_rate / (np.pi * outer_hidraul_diameter * mu_water )\n",
    "    print(\"Re_ext = \", Re_e)\n",
    "    Nu_e_turb = 0.023 * np.power(Re_e, (4/5.0)) * np.power(Pr_water, (0.4))\n",
    "        \n",
    "    if(Re_e>3000.0):\n",
    "        Nu_e = Nu_e_turb\n",
    "    else:\n",
    "        Nu_e = 4.85\n",
    "    print(\"Nu_ext = \", Nu_e)\n",
    "\n",
    "if type==2:\n",
    "    curv_ratio = internal_diameter/(2* curv_radius)\n",
    "    Re_i = 4.0 * cold_water_flow_rate / (np.pi * internal_diameter * mu_water )\n",
    "    print(\"Re_int = \", Re_i)\n",
    "    Nu_i = 0.023 * np.power(Re_i, (0.85)) * np.power(Pr_water, (0.4)) * np.power(curv_ratio, (0.1))\n",
    "    print(\"Nu_int = \", Nu_i)\n",
    "\n",
    "    flow_velocity = hot_water_vol_rate/(np.pi * tank_diameter*tank_diameter/4.0)\n",
    "    \n",
    "    Re_e = hot_water_density * flow_velocity * tank_diameter/ hot_mu_water\n",
    "    \n",
    "    if (Re_e> 0.4 and Re_e <= 4.0):\n",
    "        C = 0.989\n",
    "        m = 0.33\n",
    "        \n",
    "    elif(Re_e> 4.0 and Re_e <= 40):\n",
    "        C = 0.911\n",
    "        m = 0.385\n",
    "            \n",
    "    elif(Re_e> 40 and Re_e <= 4000):\n",
    "        C = 0.683\n",
    "        m = 0.466\n",
    "        \n",
    "    elif(Re_e> 4000 and Re_e <= 40000):\n",
    "        C = 0.193\n",
    "        m =  0.618\n",
    "\n",
    "    elif(Re_e> 4000 and Re_e <= 40000):\n",
    "        C = 0.027\n",
    "        m =  0.805\n",
    "\n",
    "    print(\"Re_e = \", Re_e)\n",
    "    print(\"Nu_ext = \", Nu_e)\n",
    "    Nu_e= C * np.power(Re_e, m)* np.power(hot_Pr_water,1/3.0)\n",
    "\n",
    "h_i = conduct_water * Nu_i/internal_diameter\n",
    "print(\"h_int = \", h_i)\n",
    "\n",
    "h_e = conduct_water * Nu_e/outer_hidraul_diameter\n",
    "print(\"h_ext = \", h_e)\n",
    "\n",
    "U = 1.0/((1/h_i)+(1/h_e))\n",
    "print(\"U = \", U)\n",
    "\n",
    "\n",
    "delta_T1 = T_hot_water_inlet-T_cold_exit\n",
    "delta_T2 = T_hot_water_exit - T_cold_inlet\n",
    "\n",
    "delta_T_log = (delta_T2-delta_T1)/(np.log(delta_T2/delta_T1))\n",
    "print(\"Delta T_lm = \",delta_T_log)\n",
    "\n",
    "A = q_cold_water / (U *correction_factor* delta_T_log )\n",
    "\n",
    "length = A / (np.pi * internal_diameter)\n",
    "\n",
    "print(\"Comprimento necessário de troca = \", length, \"m\")"
   ]
  },
  {
   "cell_type": "code",
   "execution_count": null,
   "metadata": {
    "collapsed": true
   },
   "outputs": [],
   "source": []
  },
  {
   "cell_type": "code",
   "execution_count": null,
   "metadata": {
    "collapsed": true
   },
   "outputs": [],
   "source": []
  },
  {
   "cell_type": "code",
   "execution_count": null,
   "metadata": {
    "collapsed": true
   },
   "outputs": [],
   "source": []
  }
 ],
 "metadata": {
  "kernelspec": {
   "display_name": "Python 3",
   "language": "python",
   "name": "python3"
  },
  "language_info": {
   "codemirror_mode": {
    "name": "ipython",
    "version": 3
   },
   "file_extension": ".py",
   "mimetype": "text/x-python",
   "name": "python",
   "nbconvert_exporter": "python",
   "pygments_lexer": "ipython3",
   "version": "3.6.1"
  }
 },
 "nbformat": 4,
 "nbformat_minor": 2
}
